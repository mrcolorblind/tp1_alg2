{
 "cells": [
  {
   "cell_type": "code",
   "execution_count": 1,
   "metadata": {},
   "outputs": [],
   "source": [
    "import numpy as np\n",
    "import math\n",
    "import networkx as nx\n",
    "import time\n",
    "import matplotlib.pyplot as plt"
   ]
  },
  {
   "cell_type": "markdown",
   "metadata": {},
   "source": [
    "### Primeiramente, iremos definir algumas funções de custo e um gerador aleatório de instâncias"
   ]
  },
  {
   "cell_type": "markdown",
   "metadata": {},
   "source": [
    "* `getSample` recebe um inteiro $n$ e retorna $2^n$ pontos no plano, com ambas as coordenadas no intervalo $[-512, 512]$.\n",
    "* `dist2` retorna a distância Euclidiana ao quadrado de dois pontos.\n",
    "* `manhattanCost` recebe uma lista de pontos, em ordem, e retorna a soma das distâncias de Manhattan nessa ordem.\n",
    "* `euclideanCost` recebe uma lista de pontos, em ordem, e retorna a soma das distâncias Euclidianas nessa ordem."
   ]
  },
  {
   "cell_type": "code",
   "execution_count": 2,
   "metadata": {},
   "outputs": [],
   "source": [
    "def getSample(n):\n",
    "    X = np.random.randint(1024, size = n)\n",
    "    Y = np.random.randint(1024, size = n)\n",
    "    \n",
    "    return [(X[i] - 512, Y[i] - 512) for i in range(len(X))]\n",
    "\n",
    "def dist2(a, b):\n",
    "    return abs(a[0] - b[0]) ** 2 + abs(a[1] - b[1]) ** 2\n",
    "\n",
    "def manhattanCost(points):\n",
    "    cost = 0\n",
    "    for i in range(len(points) - 1):\n",
    "        cost += abs(points[i][0] - points[i+1][0]) + abs(points[i][1] - points[i+1][1])\n",
    "    cost += abs(points[-1][0] - points[0][0]) + abs(points[-1][1] - points[0][1])\n",
    "    \n",
    "    return cost\n",
    "\n",
    "def euclideanCost(points):\n",
    "    cost = 0\n",
    "    for i in range(len(points) - 1):\n",
    "        cost += math.sqrt(dist2(points[i], points[i+1]))\n",
    "    cost += math.sqrt(dist2(points[-1], points[0]))\n",
    "    \n",
    "    return cost"
   ]
  },
  {
   "cell_type": "markdown",
   "metadata": {},
   "source": [
    "### Primeiro Algoritmo: Twice Around the Tree"
   ]
  },
  {
   "cell_type": "markdown",
   "metadata": {},
   "source": [
    "Primeiramente nós geramos uma lista de adjacência com o grafo completo. Após isso, utilizamos Disjoint Set Union e Kruskal para gerar uma Minimum Spanning Tree. Com a MST em mãos, realizamos uma DFS e conseguimos a ordem para o TSP."
   ]
  },
  {
   "cell_type": "code",
   "execution_count": 3,
   "metadata": {},
   "outputs": [],
   "source": [
    "class TwiceAround:    \n",
    "    def __init__(self, points):\n",
    "        # Arestas\n",
    "        self.edges  = []\n",
    "        self.points = points\n",
    "        self.size   = len(points)\n",
    "        for i in range(self.size):\n",
    "            for j in range(self.size):\n",
    "                if i == j: continue\n",
    "                self.edges.append([dist2(points[i], points[j]), i, j])\n",
    "                \n",
    "    def find(self, x):\n",
    "        if(self.p[x] == x): return x\n",
    "        self.p[x] = self.find(self.p[x])\n",
    "        \n",
    "        return self.p[x]\n",
    "    \n",
    "    def union(self, x, y):\n",
    "        x    = self.find(x)\n",
    "        y    = self.find(y)\n",
    "\n",
    "        self.p[x] = y\n",
    "        \n",
    "    def kruskal(self):\n",
    "        # Componentes e Arestas\n",
    "        self.p = [i for i in range(self.size)]\n",
    "        self.edges = sorted(self.edges)\n",
    "        \n",
    "        mstG = [[] for i in range(self.size)]\n",
    "        for dist, x, y in self.edges:\n",
    "            if self.find(x) != self.find(y):\n",
    "                mstG[x].append(y)\n",
    "                mstG[y].append(x)\n",
    "                self.union(x, y)\n",
    "        \n",
    "        return mstG\n",
    "    \n",
    "    def dfs(self, x, visited, graph):\n",
    "        visited[x] = True\n",
    "        self.tspAns.append(x)\n",
    "        for u in graph[x]:\n",
    "            if not visited[u]:\n",
    "                self.dfs(u, visited, graph)\n",
    "        \n",
    "    def solveTSP(self):\n",
    "        mstG    = self.kruskal()\n",
    "        self.tspAns  = []\n",
    "        self.dfs(0, [False for i in range(self.size)], mstG)\n",
    "        \n",
    "        return self.tspAns"
   ]
  },
  {
   "cell_type": "markdown",
   "metadata": {},
   "source": [
    "### Segundo Algoritmo: Christofides"
   ]
  },
  {
   "cell_type": "code",
   "execution_count": 4,
   "metadata": {},
   "outputs": [],
   "source": [
    "class Christofides:\n",
    "    def __init__(self, points):\n",
    "        # Arestas\n",
    "        self.graph  = nx.Graph()\n",
    "        self.points = points\n",
    "        self.size   = len(points)\n",
    "        \n",
    "        \n",
    "        self.graph.add_nodes_from([i for i in range(self.size)])\n",
    "        for i in range(self.size):\n",
    "            for j in range(self.size):\n",
    "                if i == j: continue\n",
    "                self.graph.add_edge(i, j, weight = dist2(points[i], points[j]))\n",
    "    \n",
    "    def solveTSP(self):\n",
    "        mstG    = nx.minimum_spanning_tree(self.graph)\n",
    "        odd     = nx.Graph()\n",
    "        for i in range(self.size):\n",
    "            if(mstG.degree[i] % 2 == 1):\n",
    "                odd.add_node(i)\n",
    "                for j in list(odd.nodes()):\n",
    "                    if(j == i): continue\n",
    "                    odd.add_edge(i, j, weight = int(1e7) - dist2(self.points[i], self.points[j]))\n",
    "\n",
    "        join    = nx.MultiGraph()\n",
    "        join.add_nodes_from([i for i in range(self.size)])\n",
    "        \n",
    "        # Add Max Matching Edges\n",
    "        for edge in nx.max_weight_matching(odd, maxcardinality=True, weight='weight'):\n",
    "            join.add_edge(edge[0], edge[1])\n",
    "        # Add MST Edges\n",
    "        for edge in mstG.edges():\n",
    "            join.add_edge(edge[0], edge[1])\n",
    "                    \n",
    "        euler  = list(nx.eulerian_circuit(join))\n",
    "        used   = set()\n",
    "        ans = []\n",
    "        for x, y in euler:\n",
    "            if x not in used:\n",
    "                ans.append(x)\n",
    "            if y not in used:\n",
    "                ans.append(y)\n",
    "            used.add(x)\n",
    "            used.add(y)\n",
    "            \n",
    "        return ans "
   ]
  },
  {
   "cell_type": "markdown",
   "metadata": {},
   "source": [
    "### Terceiro Algoritmo: Branch and Bound"
   ]
  },
  {
   "cell_type": "code",
   "execution_count": 5,
   "metadata": {},
   "outputs": [],
   "source": [
    "class BranchBound:\n",
    "    def __init__(self, points):\n",
    "        self.points    = points        \n",
    "        self.best      = float('inf')\n",
    "        self.solution  = []\n",
    "        self.size      = len(points)\n",
    "        self.minD      = []\n",
    "        \n",
    "        for p in points:\n",
    "            mini1 = float('inf')\n",
    "            mini2 = float('inf')\n",
    "            \n",
    "            for u in points:\n",
    "                if u == p: continue\n",
    "                dist = math.sqrt(dist2(p, u))\n",
    "                if dist < mini1:\n",
    "                    mini2 = mini1\n",
    "                    mini1 = dist\n",
    "                elif dist < mini2:\n",
    "                    mini2 = dist\n",
    "            \n",
    "            self.minD.append(mini1 + mini2)\n",
    "                                 \n",
    "    def solveTSP(self, ans = [], got = set(), cost = 0):\n",
    "        if(cost > self.best): return        \n",
    "        if(len(ans) == self.size):\n",
    "            self.solution = ans\n",
    "            self.best     = cost\n",
    "        \n",
    "        minD = 0\n",
    "        for i in range(self.size):\n",
    "            if self.points[i] not in got:\n",
    "                minD += self.minD[i]\n",
    "        if(cost + minD/2 > self.best): return\n",
    "            \n",
    "        for p in self.points:\n",
    "            if p in got: continue\n",
    "            ansT = ans.copy()\n",
    "            gotT = got.copy()\n",
    "            ansT.append(p)\n",
    "            gotT.add(p)\n",
    "            costT = cost\n",
    "            if(len(ansT) > 1):\n",
    "                costT += math.sqrt(dist2(ans[-1], p)) \n",
    "            self.solveTSP(ansT, gotT, costT)"
   ]
  },
  {
   "cell_type": "markdown",
   "metadata": {},
   "source": [
    "### Função para alguns testes:"
   ]
  },
  {
   "cell_type": "code",
   "execution_count": 6,
   "metadata": {},
   "outputs": [],
   "source": [
    "from tqdm import tqdm\n",
    "def make_test(n, tests = 100):\n",
    "    twiceT  = []\n",
    "    christT = []\n",
    "    bbT     = []\n",
    "    twiceD  = []\n",
    "    christD = []\n",
    "    for test in tqdm(range(tests)):\n",
    "        points  = getSample(n)\n",
    "        twice   = TwiceAround(points)\n",
    "        christ  = Christofides(points)\n",
    "        bb      = BranchBound(points)\n",
    "        bb.solveTSP()\n",
    "        \n",
    "        if len(twice.solveTSP()) == 0 or len(christ.solveTSP()) == 0 or len(bb.solution) == 0: continue \n",
    "        # Twice Around\n",
    "        time1   = time.time()\n",
    "        ans1    = euclideanCost([points[x] for x in twice.solveTSP()])\n",
    "        time1   = time.time() - time1\n",
    "        # Christofides\n",
    "        time2   = time.time()\n",
    "        ans2    = euclideanCost([points[x] for x in christ.solveTSP()])\n",
    "        time2   = time.time() - time2\n",
    "        # Branch and Bound\n",
    "        time3   = time.time()\n",
    "        ans3    = euclideanCost(bb.solution)\n",
    "        time3   = time.time() - time3\n",
    "        \n",
    "        # Tempos\n",
    "        twiceT.append(time1*1000)\n",
    "        christT.append(time2*1000)\n",
    "        bbT.append(time3*1000)\n",
    "        \n",
    "        # Soluções\n",
    "        twiceD.append(ans1 / ans3)\n",
    "        christD.append(ans2 / ans3)\n",
    "        \n",
    "    return {\"times\": [twiceT, christT, bbT], \"diffs\": [twiceD, christD]}"
   ]
  },
  {
   "cell_type": "code",
   "execution_count": 7,
   "metadata": {},
   "outputs": [
    {
     "name": "stderr",
     "output_type": "stream",
     "text": [
      "100%|██████████| 100000/100000 [12:16<00:00, 135.76it/s]\n"
     ]
    }
   ],
   "source": [
    "result = make_test(8, tests = 100000)"
   ]
  },
  {
   "cell_type": "code",
   "execution_count": 29,
   "metadata": {},
   "outputs": [
    {
     "data": {
      "image/png": "[encoded data removed]",
      "text/plain": [
       "<Figure size 432x288 with 1 Axes>"
      ]
     },
     "metadata": {
      "needs_background": "light"
     },
     "output_type": "display_data"
    }
   ],
   "source": [
    "plt.title(\"Diferença do Resultado - Twice Around The Tree\")\n",
    "plt.axis([None, None, 0, 2000])\n",
    "plt.ylabel(\"Número de Instâncias\")\n",
    "plt.xlabel(\"Custo em relação à Solução Ótima\")\n",
    "_ = plt.hist(result[\"diffs\"][0], bins = np.linspace(1, 2, 200), color = \"firebrick\")\n",
    "plt.savefig(\"diff_twice.png\")"
   ]
  },
  {
   "cell_type": "code",
   "execution_count": 28,
   "metadata": {},
   "outputs": [
    {
     "data": {
      "image/png": "[encoded data removed]",
      "text/plain": [
       "<Figure size 432x288 with 1 Axes>"
      ]
     },
     "metadata": {
      "needs_background": "light"
     },
     "output_type": "display_data"
    }
   ],
   "source": [
    "plt.title(\"Diferença do Resultado - Christofides\")\n",
    "plt.axis([None, None, 0, 2000])\n",
    "plt.ylabel(\"Número de Instâncias\")\n",
    "plt.xlabel(\"Custo em relação à Solução Ótima\")\n",
    "_ = plt.hist(result[\"diffs\"][1], bins = np.linspace(1, 2, 200), color = \"darkorange\")\n",
    "plt.savefig(\"diff_christ.png\")"
   ]
  },
  {
   "cell_type": "code",
   "execution_count": null,
   "metadata": {},
   "outputs": [],
   "source": []
  }
 ],
 "metadata": {
  "kernelspec": {
   "display_name": "Python 3",
   "language": "python",
   "name": "python3"
  },
  "language_info": {
   "codemirror_mode": {
    "name": "ipython",
    "version": 3
   },
   "file_extension": ".py",
   "mimetype": "text/x-python",
   "name": "python",
   "nbconvert_exporter": "python",
   "pygments_lexer": "ipython3",
   "version": "3.8.5"
  }
 },
 "nbformat": 4,
 "nbformat_minor": 4
}
